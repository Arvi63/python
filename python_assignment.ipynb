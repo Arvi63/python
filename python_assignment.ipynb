{
  "nbformat": 4,
  "nbformat_minor": 0,
  "metadata": {
    "colab": {
      "name": "python_assignment.ipynb",
      "provenance": [],
      "collapsed_sections": []
    },
    "kernelspec": {
      "name": "python3",
      "display_name": "Python 3"
    }
  },
  "cells": [
    {
      "cell_type": "markdown",
      "metadata": {
        "id": "n5rhs_6U36Oa"
      },
      "source": [
        "1.​ Write a Python program to count the number of characters (characterfrequency) in a string. \r\n",
        "\r\n",
        "Sample String : google.com'\r\n",
        "\r\n",
        "Expected Result : {'o': 3, 'g': 2, '.': 1, 'e': 1, 'l': 1, 'm': 1, 'c': 1}"
      ]
    },
    {
      "cell_type": "code",
      "metadata": {
        "colab": {
          "base_uri": "https://localhost:8080/"
        },
        "id": "lTwokUba3CH-",
        "outputId": "09e0fecb-9c3c-4046-c48d-6c78170267d4"
      },
      "source": [
        "def count_char(props):\r\n",
        "    if type(props) == str:\r\n",
        "        count_dict = {}\r\n",
        "        for char in props:\r\n",
        "            if char in count_dict.keys():\r\n",
        "                count_dict[char] += 1\r\n",
        "            else:\r\n",
        "                count_dict[char] = 1\r\n",
        "\r\n",
        "        return count_dict\r\n",
        "    else:\r\n",
        "        return \"Please send string\"\r\n",
        "\r\n",
        "\r\n",
        "print(count_char('google.com'))\r\n"
      ],
      "execution_count": null,
      "outputs": [
        {
          "output_type": "stream",
          "text": [
            "{'g': 2, 'o': 3, 'l': 1, 'e': 1, '.': 1, 'c': 1, 'm': 1}\n"
          ],
          "name": "stdout"
        }
      ]
    },
    {
      "cell_type": "markdown",
      "metadata": {
        "id": "YxgdIXQ435lM"
      },
      "source": [
        "2.Write a Python program to get a string made of the first 2 and the last 2 charsfrom a given a string. If the string length is less than 2, return instead of theempty string."
      ]
    },
    {
      "cell_type": "code",
      "metadata": {
        "id": "JjHTfQwf4TlL",
        "colab": {
          "base_uri": "https://localhost:8080/"
        },
        "outputId": "84f696b7-8322-4056-aa78-11bc718c1f7b"
      },
      "source": [
        "def two_string(props):\r\n",
        "  if len(props) < 2:\r\n",
        "    return ''\r\n",
        "  else:\r\n",
        "    result = props[:2] + props[-2:]\r\n",
        "    return result\r\n",
        "\r\n",
        "print(two_string('Python'))"
      ],
      "execution_count": null,
      "outputs": [
        {
          "output_type": "stream",
          "text": [
            "Pyon\n"
          ],
          "name": "stdout"
        }
      ]
    },
    {
      "cell_type": "markdown",
      "metadata": {
        "id": "Bo98vyEF5xAx"
      },
      "source": [
        "3. Write a Python program to get a string from a given string where alloccurrences of its first char have been changed to '$', except the first char itself."
      ]
    },
    {
      "cell_type": "code",
      "metadata": {
        "colab": {
          "base_uri": "https://localhost:8080/"
        },
        "id": "mHLF2Aox5eS9",
        "outputId": "9b5bf45f-27c8-4b28-a03a-3ad650cd3037"
      },
      "source": [
        "def func(props):\r\n",
        "  first_char = props[0]\r\n",
        "  result_str = ''\r\n",
        "  result_str += first_char\r\n",
        "\r\n",
        "  for i in props[1:]:\r\n",
        "    if i == first_char:\r\n",
        "      result_str += '$'\r\n",
        "    else:\r\n",
        "      result_str += i\r\n",
        "    \r\n",
        "  return result_str\r\n",
        "\r\n",
        "\r\n",
        "print(func('restart'))"
      ],
      "execution_count": null,
      "outputs": [
        {
          "output_type": "stream",
          "text": [
            "resta$t\n"
          ],
          "name": "stdout"
        }
      ]
    },
    {
      "cell_type": "markdown",
      "metadata": {
        "id": "WATqVC_H7ilb"
      },
      "source": [
        "4.​ Write a Python program to get a single string from two given strings, separatedby a space and swap the first two characters of each string."
      ]
    },
    {
      "cell_type": "code",
      "metadata": {
        "colab": {
          "base_uri": "https://localhost:8080/"
        },
        "id": "EA-7S6vW6Mpx",
        "outputId": "9817632a-9acb-47c4-9427-39237741cd09"
      },
      "source": [
        "def addSwap(props1,props2):\r\n",
        "  temp1 = props1[:2]\r\n",
        "  temp2 = props2[:2]\r\n",
        "  temp2 += props1[2:]\r\n",
        "  temp1 += props2[2:]\r\n",
        "\r\n",
        "  result = temp2 + ' ' + temp1\r\n",
        "  return result\r\n",
        "\r\n",
        "print(addSwap('abc','xyz'))"
      ],
      "execution_count": null,
      "outputs": [
        {
          "output_type": "stream",
          "text": [
            "xyc abz\n"
          ],
          "name": "stdout"
        }
      ]
    },
    {
      "cell_type": "markdown",
      "metadata": {
        "id": "k_hN88kD3YIp"
      },
      "source": [
        "5. Write a Python program to add 'ing' at the end of a given string (length should\r\n",
        "be at least 3). If the given string already ends with 'ing' then add 'ly' instead. If the\r\n",
        "string length of the given string is less than 3, leave it unchanged."
      ]
    },
    {
      "cell_type": "code",
      "metadata": {
        "id": "WLf0UCgC8QKH",
        "colab": {
          "base_uri": "https://localhost:8080/"
        },
        "outputId": "3d17d459-ff87-4d73-c1c0-d1b7edf3d2c4"
      },
      "source": [
        "def str_add(props):\r\n",
        "  if len(props) >= 3:\r\n",
        "    if props.endswith('ing'):\r\n",
        "      props += 'ly'\r\n",
        "    else:\r\n",
        "      props += 'ing'\r\n",
        "      \r\n",
        "  return props\r\n",
        "\r\n",
        "\r\n",
        "print(str_add('string'))\r\n"
      ],
      "execution_count": null,
      "outputs": [
        {
          "output_type": "stream",
          "text": [
            "stringly\n"
          ],
          "name": "stdout"
        }
      ]
    },
    {
      "cell_type": "markdown",
      "metadata": {
        "id": "5lSjkW8i5IFZ"
      },
      "source": [
        "6. Write a Python program to find the first appearance of the substring 'not' and\r\n",
        "'poor' from a given string, if 'not' follows the 'poor', replace the whole 'not'...'poor'\r\n",
        "substring with 'good'. Return the resulting string."
      ]
    },
    {
      "cell_type": "code",
      "metadata": {
        "colab": {
          "base_uri": "https://localhost:8080/"
        },
        "id": "wyZdpvth4LWh",
        "outputId": "5331a7f2-3fb5-490c-f7cd-0de299362c4b"
      },
      "source": [
        "def find_str(props):\r\n",
        "  if 'not' in props and 'poor' in props:\r\n",
        "    splitted = props.split(' ')\r\n",
        "    for i,word in enumerate(splitted):\r\n",
        "      if word == 'not':\r\n",
        "        not_index = i\r\n",
        "      elif word == 'poor':\r\n",
        "        poor_index = i\r\n",
        "    if poor_index > not_index:\r\n",
        "      del splitted[not_index:]\r\n",
        "      splitted.append('good')\r\n",
        "\r\n",
        "    result = ' '.join(splitted)\r\n",
        "    return result\r\n",
        "\r\n",
        "  return props\r\n",
        "\r\n",
        "print(find_str('The lyrics is not that  poor !'))"
      ],
      "execution_count": null,
      "outputs": [
        {
          "output_type": "stream",
          "text": [
            "The lyrics is good\n"
          ],
          "name": "stdout"
        }
      ]
    },
    {
      "cell_type": "markdown",
      "metadata": {
        "id": "TuHSf5X19gBl"
      },
      "source": [
        "7. Write a Python function that takes a list of words and returns the length of the\r\n",
        "longest one."
      ]
    },
    {
      "cell_type": "code",
      "metadata": {
        "colab": {
          "base_uri": "https://localhost:8080/"
        },
        "id": "eEtfSIOk6mi9",
        "outputId": "2af96e6e-54f1-4caf-95da-3e64a5d4c22b"
      },
      "source": [
        "def longest(props):\r\n",
        "  max_length = 0\r\n",
        "  for word in props:\r\n",
        "    if len(word) > max_length:\r\n",
        "      max_length = len(word)\r\n",
        "  return max_length\r\n",
        "\r\n",
        "print(longest('The lyrics is not that  poor'.split(' ')))"
      ],
      "execution_count": null,
      "outputs": [
        {
          "output_type": "stream",
          "text": [
            "6\n"
          ],
          "name": "stdout"
        }
      ]
    },
    {
      "cell_type": "markdown",
      "metadata": {
        "id": "H9pEyRel-8lR"
      },
      "source": [
        "8. Write a Python program to remove the nth index character from a nonempty\r\n",
        "string."
      ]
    },
    {
      "cell_type": "code",
      "metadata": {
        "colab": {
          "base_uri": "https://localhost:8080/"
        },
        "id": "KTAwKHVf-SAq",
        "outputId": "598e2672-b373-43cd-bbf5-ead30813b724"
      },
      "source": [
        "def remove_nth(string,index):\r\n",
        "  if len(string.strip()) != 0:\r\n",
        "    result = string[:index] + string[index+1:]\r\n",
        "    return result\r\n",
        "  return string\r\n",
        "\r\n",
        "print(remove_nth('Netherland',7))"
      ],
      "execution_count": null,
      "outputs": [
        {
          "output_type": "stream",
          "text": [
            "Netherlnd\n"
          ],
          "name": "stdout"
        }
      ]
    },
    {
      "cell_type": "markdown",
      "metadata": {
        "id": "7pbyzkMZAZCe"
      },
      "source": [
        "9. Write a Python program to change a given string to a new string where the first\r\n",
        "and last chars have been exchanged."
      ]
    },
    {
      "cell_type": "code",
      "metadata": {
        "id": "8Aa-KG2q_-Qo",
        "colab": {
          "base_uri": "https://localhost:8080/"
        },
        "outputId": "be1b52f1-364e-46de-d3a2-db30e7561be6"
      },
      "source": [
        "def change(props):\r\n",
        "  first = props[0]\r\n",
        "  last = props[-1]\r\n",
        "  result = last + props[1:-1] + first\r\n",
        "  return result\r\n",
        "\r\n",
        "print(change(\"Hello world\"))"
      ],
      "execution_count": null,
      "outputs": [
        {
          "output_type": "stream",
          "text": [
            "dello worlH\n"
          ],
          "name": "stdout"
        }
      ]
    },
    {
      "cell_type": "markdown",
      "metadata": {
        "id": "vXo9iPcSBABG"
      },
      "source": [
        "1 0. Write a Python program to remove the characters which have odd index\r\n",
        "values of a given string"
      ]
    },
    {
      "cell_type": "code",
      "metadata": {
        "colab": {
          "base_uri": "https://localhost:8080/"
        },
        "id": "ScvyztM9AyZT",
        "outputId": "eb1bdcbf-a38c-4b1f-ebd0-9e07d9a177f7"
      },
      "source": [
        "def remove_odd(props):\r\n",
        "  temp = ''\r\n",
        "  for i,letter in enumerate(props):\r\n",
        "    if i % 2 == 0:\r\n",
        "      temp += props[i]\r\n",
        "  return temp\r\n",
        "\r\n",
        "print(remove_odd('helloworld'))\r\n"
      ],
      "execution_count": null,
      "outputs": [
        {
          "output_type": "stream",
          "text": [
            "hlool\n"
          ],
          "name": "stdout"
        }
      ]
    },
    {
      "cell_type": "markdown",
      "metadata": {
        "id": "6aCHOUIdFk0M"
      },
      "source": [
        "1 1 . Write a Python program to count the occurrences of each word in a given\r\n",
        "sentence."
      ]
    },
    {
      "cell_type": "code",
      "metadata": {
        "colab": {
          "base_uri": "https://localhost:8080/"
        },
        "id": "7J81SHRGCcKE",
        "outputId": "98af2477-5965-4f2b-f70d-0e3b478cc2d4"
      },
      "source": [
        "def count_occ(props):\r\n",
        "  count = {}\r\n",
        "  splitted = props.split(' ')\r\n",
        "  for word in splitted:\r\n",
        "    if word in count:\r\n",
        "      count[word] += 1\r\n",
        "    else:\r\n",
        "      count[word] = 1\r\n",
        "  return count\r\n",
        "\r\n",
        "print(count_occ(\"Hello I everyone. Again hello to everyone. I am suraj. I am just checking this function\"))"
      ],
      "execution_count": null,
      "outputs": [
        {
          "output_type": "stream",
          "text": [
            "{'Hello': 1, 'I': 3, 'everyone.': 2, 'Again': 1, 'hello': 1, 'to': 1, 'am': 2, 'suraj.': 1, 'just': 1, 'checking': 1, 'this': 1, 'function': 1}\n"
          ],
          "name": "stdout"
        }
      ]
    },
    {
      "cell_type": "markdown",
      "metadata": {
        "id": "yGoZ87EpGoRF"
      },
      "source": [
        "1 2. Write a Python script that takes input from the user and displays that input\r\n",
        "back in upper and lower cases"
      ]
    },
    {
      "cell_type": "code",
      "metadata": {
        "colab": {
          "base_uri": "https://localhost:8080/"
        },
        "id": "1MbHJqlfCjiJ",
        "outputId": "713ca342-99ba-40c0-da9a-ed63510f92a7"
      },
      "source": [
        "def upper_lower():\r\n",
        "  input_data = input(\"Enter your query: \")\r\n",
        "  print(\"UpperCase input: \",input_data.upper())\r\n",
        "  print(\"LowerCase input: \",input_data.lower())\r\n",
        "  \r\n",
        "upper_lower()"
      ],
      "execution_count": null,
      "outputs": [
        {
          "output_type": "stream",
          "text": [
            "Enter your query: Hello World\n",
            "UpperCase input:  HELLO WORLD\n",
            "LowerCase input:  hello world\n"
          ],
          "name": "stdout"
        }
      ]
    },
    {
      "cell_type": "markdown",
      "metadata": {
        "id": "TafU6irJHlvT"
      },
      "source": [
        "1 3. Write a Python program that accepts a comma separated sequence of words\r\n",
        "as input and prints the unique words in sorted form (alphanumerically)"
      ]
    },
    {
      "cell_type": "code",
      "metadata": {
        "colab": {
          "base_uri": "https://localhost:8080/"
        },
        "id": "ydxvYLgZC9-O",
        "outputId": "198118bb-e508-437c-9761-c64a2e9eeca5"
      },
      "source": [
        "def unique_sort(props):\r\n",
        "  splitted = props.split(',')\r\n",
        "  splitted = [words.strip() for words in splitted]\r\n",
        "  unique_word = set(splitted)\r\n",
        "  unique_word_sort = sorted(unique_word)\r\n",
        "  return unique_word_sort\r\n",
        "\r\n",
        "print(unique_sort('red, white, black, red, green, black'))"
      ],
      "execution_count": null,
      "outputs": [
        {
          "output_type": "stream",
          "text": [
            "['black', 'green', 'red', 'white']\n"
          ],
          "name": "stdout"
        }
      ]
    },
    {
      "cell_type": "markdown",
      "metadata": {
        "id": "sO0b4IaOJJOk"
      },
      "source": [
        "1 4. Write a Python function to create the HTML string with tags around the\r\n",
        "word(s)"
      ]
    },
    {
      "cell_type": "code",
      "metadata": {
        "colab": {
          "base_uri": "https://localhost:8080/"
        },
        "id": "Q6w9zYMFITlo",
        "outputId": "55366ff2-6884-409a-f87e-3329a6458c2c"
      },
      "source": [
        "def add_tags(tag,string):\r\n",
        "  return '<' + tag + '>' + string + '</' + tag + '>'\r\n",
        "\r\n",
        "print(add_tags('i', 'Python'))\r\n",
        "print(add_tags('b', 'Python Tutorial'))"
      ],
      "execution_count": null,
      "outputs": [
        {
          "output_type": "stream",
          "text": [
            "<i>Python</i>\n",
            "<b>Python Tutorial</b>\n"
          ],
          "name": "stdout"
        }
      ]
    },
    {
      "cell_type": "markdown",
      "metadata": {
        "id": "oxdXYQ8KJzgC"
      },
      "source": [
        "1 5. Write a Python function to insert a string in the middle of a string."
      ]
    },
    {
      "cell_type": "code",
      "metadata": {
        "colab": {
          "base_uri": "https://localhost:8080/"
        },
        "id": "1UoO82SAJp3d",
        "outputId": "e3b96f79-3801-45a1-f108-00c7742642b9"
      },
      "source": [
        "def insert_string_middle(loc,string):\r\n",
        "  if len(loc) % 2 ==0:\r\n",
        "    ind = int(len(loc)/2)\r\n",
        "    string = loc[:ind] + string + loc[ind:] \r\n",
        "    return string\r\n",
        "\r\n",
        "print(insert_string_middle('{{}}', 'PHP') )\r\n",
        "print(insert_string_middle('[[]]', 'Python') )\r\n",
        "print(insert_string_middle('<<<>>>', 'Python') )"
      ],
      "execution_count": null,
      "outputs": [
        {
          "output_type": "stream",
          "text": [
            "{{PHP}}\n",
            "[[Python]]\n",
            "<<<Python>>>\n"
          ],
          "name": "stdout"
        }
      ]
    },
    {
      "cell_type": "markdown",
      "metadata": {
        "id": "GOmqTc2CMYmh"
      },
      "source": [
        "1 6. Write a Python program to sum all the items in a list."
      ]
    },
    {
      "cell_type": "code",
      "metadata": {
        "colab": {
          "base_uri": "https://localhost:8080/"
        },
        "id": "84aPQO3bKonn",
        "outputId": "2b3511d3-0e5f-4e71-a878-039fed12e7bd"
      },
      "source": [
        "def add(props):\r\n",
        "  sum = 0\r\n",
        "  for num in props:\r\n",
        "    sum += num\r\n",
        "  return sum\r\n",
        "\r\n",
        "print(add([1,2,3,4,5]))"
      ],
      "execution_count": null,
      "outputs": [
        {
          "output_type": "stream",
          "text": [
            "15\n"
          ],
          "name": "stdout"
        }
      ]
    },
    {
      "cell_type": "markdown",
      "metadata": {
        "id": "F6TUSxfeMuuq"
      },
      "source": [
        "1 7. Write a Python program to multiplies all the items in a list"
      ]
    },
    {
      "cell_type": "code",
      "metadata": {
        "colab": {
          "base_uri": "https://localhost:8080/"
        },
        "id": "KbIoX5gvKpcm",
        "outputId": "ca112ae0-5563-47f6-cdfb-2326ac9373f7"
      },
      "source": [
        "def multiply(props):\r\n",
        "  mul = props[0]\r\n",
        "  for num in props[1:]:\r\n",
        "    mul *= num\r\n",
        "  return mul\r\n",
        "\r\n",
        "print(multiply([1,2,3,4,5]))"
      ],
      "execution_count": null,
      "outputs": [
        {
          "output_type": "stream",
          "text": [
            "120\n"
          ],
          "name": "stdout"
        }
      ]
    },
    {
      "cell_type": "markdown",
      "metadata": {
        "id": "u-UZ-Hh5P6rw"
      },
      "source": [
        "1 8. Write a Python program to get the largest number from a list"
      ]
    },
    {
      "cell_type": "code",
      "metadata": {
        "id": "bMRKHbRMM7Ih",
        "colab": {
          "base_uri": "https://localhost:8080/"
        },
        "outputId": "72e046f8-bf00-4a42-985f-75ddd79de2d5"
      },
      "source": [
        "def largest(props):\r\n",
        "  max = 0\r\n",
        "  for num in props:\r\n",
        "    if num > max:\r\n",
        "      max = num\r\n",
        "  return max\r\n",
        "\r\n",
        "print(largest([1,2,3,4,5,5,6,7,8]))"
      ],
      "execution_count": null,
      "outputs": [
        {
          "output_type": "stream",
          "text": [
            "8\n"
          ],
          "name": "stdout"
        }
      ]
    },
    {
      "cell_type": "markdown",
      "metadata": {
        "id": "rD1sv36pQZ9A"
      },
      "source": [
        "1 9. Write a Python program to get the smallest number from a list"
      ]
    },
    {
      "cell_type": "code",
      "metadata": {
        "colab": {
          "base_uri": "https://localhost:8080/"
        },
        "id": "FZuAXQwnQJ5a",
        "outputId": "745300e2-682d-4dc5-9256-518e3c679713"
      },
      "source": [
        "def smallest(props):\r\n",
        "  min = 0\r\n",
        "  for num in props:\r\n",
        "    if num < min:\r\n",
        "      min = num\r\n",
        "  return min\r\n",
        "\r\n",
        "print(smallest([1,2,3,-1,-9]))"
      ],
      "execution_count": null,
      "outputs": [
        {
          "output_type": "stream",
          "text": [
            "-9\n"
          ],
          "name": "stdout"
        }
      ]
    },
    {
      "cell_type": "markdown",
      "metadata": {
        "id": "go2JX3-lQzkj"
      },
      "source": [
        "20. Write a Python program to count the number of strings where the string\r\n",
        "length is 2 or more and the first and last character are same from a given list of\r\n",
        "strings"
      ]
    },
    {
      "cell_type": "code",
      "metadata": {
        "colab": {
          "base_uri": "https://localhost:8080/"
        },
        "id": "OKMyQy70Qw7T",
        "outputId": "9be35f9e-14fd-446b-de62-9573ec53ed1e"
      },
      "source": [
        "def count_str(props):\r\n",
        "  count = 0\r\n",
        "  for string in props:\r\n",
        "    if len(string) >= 2:\r\n",
        "      if(string[0] == string[-1]):\r\n",
        "        count += 1\r\n",
        "  \r\n",
        "  return count\r\n",
        "\r\n",
        "print(count_str( ['abc', 'xyz', 'aba', '1221']))\r\n"
      ],
      "execution_count": null,
      "outputs": [
        {
          "output_type": "stream",
          "text": [
            "2\n"
          ],
          "name": "stdout"
        }
      ]
    },
    {
      "cell_type": "markdown",
      "metadata": {
        "id": "o1_jWS_uR7ud"
      },
      "source": [
        "21 . Write a Python program to get a list, sorted in increasing order by the last\r\n",
        "element in each tuple from a given list of non-empty tuples"
      ]
    },
    {
      "cell_type": "code",
      "metadata": {
        "colab": {
          "base_uri": "https://localhost:8080/"
        },
        "id": "mnkMbYKmRpFZ",
        "outputId": "71fa9e69-4056-4d72-c356-540ef8460f84"
      },
      "source": [
        "def sort_tuple(props):\r\n",
        "  props.sort(key = lambda x: x[1])\r\n",
        "  return props\r\n",
        "print(sort_tuple([(2, 5), (1 , 2), (4, 4), (2, 3), (2, 1 )]))"
      ],
      "execution_count": null,
      "outputs": [
        {
          "output_type": "stream",
          "text": [
            "[(2, 1), (1, 2), (2, 3), (4, 4), (2, 5)]\n"
          ],
          "name": "stdout"
        }
      ]
    },
    {
      "cell_type": "markdown",
      "metadata": {
        "id": "pgVx3H7kTrv6"
      },
      "source": [
        "22. Write a Python program to remove duplicates from a list."
      ]
    },
    {
      "cell_type": "code",
      "metadata": {
        "colab": {
          "base_uri": "https://localhost:8080/"
        },
        "id": "PpOosIOtSqm3",
        "outputId": "ab191527-000c-481d-fb73-b13b1ea66af8"
      },
      "source": [
        "def remove_dup(props):\r\n",
        "  new_list = []\r\n",
        "  for num in props:\r\n",
        "    if num not in new_list:\r\n",
        "      new_list.append(num)\r\n",
        "  \r\n",
        "  return new_list\r\n",
        "\r\n",
        "print(remove_dup([1,2,3,4,5,2,3,4,6,7,7,8]))"
      ],
      "execution_count": null,
      "outputs": [
        {
          "output_type": "stream",
          "text": [
            "[1, 2, 3, 4, 5, 6, 7, 8]\n"
          ],
          "name": "stdout"
        }
      ]
    },
    {
      "cell_type": "markdown",
      "metadata": {
        "id": "sZFzzWCuU_rY"
      },
      "source": [
        "23. Write a Python program to check a list is empty or not"
      ]
    },
    {
      "cell_type": "code",
      "metadata": {
        "colab": {
          "base_uri": "https://localhost:8080/"
        },
        "id": "KYOV3Nh0UrnH",
        "outputId": "eda2d0cb-6ac7-4d3b-de59-1dd2d33ff624"
      },
      "source": [
        "def check_empty(props):\r\n",
        "  if len(props) == 0:\r\n",
        "    return \"Empty\"\r\n",
        "  return \"Not empty\"\r\n",
        "\r\n",
        "print(check_empty([]))"
      ],
      "execution_count": null,
      "outputs": [
        {
          "output_type": "stream",
          "text": [
            "Empty\n"
          ],
          "name": "stdout"
        }
      ]
    },
    {
      "cell_type": "markdown",
      "metadata": {
        "id": "WG2gGrwKVcOP"
      },
      "source": [
        "24. Write a Python program to clone or copy a list."
      ]
    },
    {
      "cell_type": "code",
      "metadata": {
        "colab": {
          "base_uri": "https://localhost:8080/"
        },
        "id": "tl4b1qzfVQAN",
        "outputId": "04407ef3-d2ad-415b-a781-2691aaedb172"
      },
      "source": [
        "def copy_list(props):\r\n",
        "  copied_list = []\r\n",
        "  for item in props:\r\n",
        "    copied_list.append(item)\r\n",
        "  return copied_list\r\n",
        "\r\n",
        "print(copy_list([1,2,3,4]))"
      ],
      "execution_count": null,
      "outputs": [
        {
          "output_type": "stream",
          "text": [
            "[1, 2, 3, 4]\n"
          ],
          "name": "stdout"
        }
      ]
    },
    {
      "cell_type": "markdown",
      "metadata": {
        "id": "0y5Mn9HVV7v6"
      },
      "source": [
        "25. Write a Python program to check whether all dictionaries in a list are empty or\r\n",
        "not"
      ]
    },
    {
      "cell_type": "code",
      "metadata": {
        "colab": {
          "base_uri": "https://localhost:8080/"
        },
        "id": "tAweT01CVqV5",
        "outputId": "e175e685-8e3b-4288-99f3-85dea3e16b5f"
      },
      "source": [
        "def check_dict(props):\r\n",
        "  empty = True\r\n",
        "  for item in props:\r\n",
        "    if(len(item) != 0):\r\n",
        "      empty = False\r\n",
        "  \r\n",
        "  return empty\r\n",
        "\r\n",
        "print(check_dict([{1 ,2},{},{}]))\r\n",
        "print(check_dict([{},{},{}]))"
      ],
      "execution_count": null,
      "outputs": [
        {
          "output_type": "stream",
          "text": [
            "False\n",
            "True\n"
          ],
          "name": "stdout"
        }
      ]
    },
    {
      "cell_type": "markdown",
      "metadata": {
        "id": "WiiRQjNvXzqW"
      },
      "source": [
        "26. Write a Python program to insert a given string at the beginning of all items in\r\n",
        "a list."
      ]
    },
    {
      "cell_type": "code",
      "metadata": {
        "colab": {
          "base_uri": "https://localhost:8080/"
        },
        "id": "Uo6YxMpEWhbF",
        "outputId": "551ef535-e93a-4a19-8383-5af8440f8b38"
      },
      "source": [
        "def insert_string(item_list,string):\r\n",
        "  for i,item in enumerate(item_list):\r\n",
        "    item_list[i] = string + str(item)\r\n",
        "\r\n",
        "  return item_list\r\n",
        "\r\n",
        "print(insert_string([1,2,3,4],'emp'))"
      ],
      "execution_count": null,
      "outputs": [
        {
          "output_type": "stream",
          "text": [
            "['emp1', 'emp2', 'emp3', 'emp4']\n"
          ],
          "name": "stdout"
        }
      ]
    },
    {
      "cell_type": "markdown",
      "metadata": {
        "id": "-_8EAo05OBTO"
      },
      "source": [
        "27. Write a Python program to replace the last element in a list with another list"
      ]
    },
    {
      "cell_type": "code",
      "metadata": {
        "id": "ur8mWrIvYoWV",
        "colab": {
          "base_uri": "https://localhost:8080/"
        },
        "outputId": "015cae2a-629a-4331-a10a-ef51895fbc4c"
      },
      "source": [
        "def replace_join(list1,list2):\r\n",
        "  result = list1[:-1] + list2\r\n",
        "  return result\r\n",
        "\r\n",
        "print(replace_join( [1 , 3, 5, 7, 9, 10], [2, 4, 6, 8]))"
      ],
      "execution_count": null,
      "outputs": [
        {
          "output_type": "stream",
          "text": [
            "[1, 3, 5, 7, 9, 2, 4, 6, 8]\n"
          ],
          "name": "stdout"
        }
      ]
    },
    {
      "cell_type": "markdown",
      "metadata": {
        "id": "wD_n1RjfPFPw"
      },
      "source": [
        "28. Write a Python script to add a key to a dictionary."
      ]
    },
    {
      "cell_type": "code",
      "metadata": {
        "colab": {
          "base_uri": "https://localhost:8080/"
        },
        "id": "chFzB7Z8OyuJ",
        "outputId": "9a67feb9-e87f-4a22-8739-3af129769044"
      },
      "source": [
        "def add_key(props):\r\n",
        "  a = list(props.keys())[-1] + 1\r\n",
        "  b = list(props.values())[-1] + 10\r\n",
        "  props[a] = b\r\n",
        "  return props\r\n",
        "\r\n",
        "\r\n",
        "print(add_key( {0: 10, 1 : 20}))"
      ],
      "execution_count": null,
      "outputs": [
        {
          "output_type": "stream",
          "text": [
            "{0: 10, 1: 20, 2: 30}\n"
          ],
          "name": "stdout"
        }
      ]
    },
    {
      "cell_type": "markdown",
      "metadata": {
        "id": "Yc81QqDXSCMr"
      },
      "source": [
        "29. Write a Python script to concatenate following dictionaries to create a new\r\n",
        "one"
      ]
    },
    {
      "cell_type": "code",
      "metadata": {
        "colab": {
          "base_uri": "https://localhost:8080/"
        },
        "id": "VkDqKaICPxlx",
        "outputId": "55ef13a0-233b-42ad-b87b-60da51a32cd9"
      },
      "source": [
        "def concat_dict(dic1,dic2,dic3):\r\n",
        "  result  = {**dic1,**dic2,**dic3}\r\n",
        "  return result\r\n",
        "\r\n",
        "print(concat_dict({1:10, 2:20},{3:30, 4:40},{5:50,6:60}))"
      ],
      "execution_count": null,
      "outputs": [
        {
          "output_type": "stream",
          "text": [
            "{1: 10, 2: 20, 3: 30, 4: 40, 5: 50, 6: 60}\n"
          ],
          "name": "stdout"
        }
      ]
    },
    {
      "cell_type": "markdown",
      "metadata": {
        "id": "B9QHrEmbkCaZ"
      },
      "source": [
        "30. Write a Python script to check whether a given key already exists in a\r\n",
        "dictionary."
      ]
    },
    {
      "cell_type": "code",
      "metadata": {
        "colab": {
          "base_uri": "https://localhost:8080/"
        },
        "id": "TySJ0qeSUrJR",
        "outputId": "11d13013-261b-4f0b-eac7-536c8379cced"
      },
      "source": [
        "def check_key(dic,key):\r\n",
        "  if key in dic:\r\n",
        "    return True\r\n",
        "  return False\r\n",
        "\r\n",
        "print(check_key({1 : 10, 2: 20, 3: 30, 4: 40, 5: 50, 6: 60},5))"
      ],
      "execution_count": null,
      "outputs": [
        {
          "output_type": "stream",
          "text": [
            "True\n"
          ],
          "name": "stdout"
        }
      ]
    },
    {
      "cell_type": "markdown",
      "metadata": {
        "id": "dnAeztS7ktYE"
      },
      "source": [
        "31 . Write a Python program to iterate over dictionaries using for loops."
      ]
    },
    {
      "cell_type": "code",
      "metadata": {
        "colab": {
          "base_uri": "https://localhost:8080/"
        },
        "id": "97L1Kk7jkcQg",
        "outputId": "9e6ba66c-d6f2-4879-b762-d619c073d1f3"
      },
      "source": [
        "def iterate_dic(dic):\r\n",
        "  for k,v in dic.items():\r\n",
        "    print(f\"The key is: {k} and value is: {v}\")\r\n",
        "\r\n",
        "iterate_dic({1 : 10, 2: 20, 3: 30, 4: 40, 5: 50})"
      ],
      "execution_count": null,
      "outputs": [
        {
          "output_type": "stream",
          "text": [
            "The key is: 1 and value is: 10\n",
            "The key is: 2 and value is: 20\n",
            "The key is: 3 and value is: 30\n",
            "The key is: 4 and value is: 40\n",
            "The key is: 5 and value is: 50\n"
          ],
          "name": "stdout"
        }
      ]
    },
    {
      "cell_type": "markdown",
      "metadata": {
        "id": "Ca4OTeaVlNwp"
      },
      "source": [
        "32. Write a Python script to generate and print a dictionary that contains a\r\n",
        "number (between 1 and n) in the form (x, x*x)."
      ]
    },
    {
      "cell_type": "code",
      "metadata": {
        "colab": {
          "base_uri": "https://localhost:8080/"
        },
        "id": "6K_YA1q0lEFJ",
        "outputId": "22a89e25-ecff-455f-9583-4a062dec5801"
      },
      "source": [
        "def generate_dic(n):\r\n",
        "  result = {}\r\n",
        "  for i in range(1,n+1):\r\n",
        "    result[i] = i*i\r\n",
        "  return result\r\n",
        "\r\n",
        "print(generate_dic(5))"
      ],
      "execution_count": null,
      "outputs": [
        {
          "output_type": "stream",
          "text": [
            "{1: 1, 2: 4, 3: 9, 4: 16, 5: 25}\n"
          ],
          "name": "stdout"
        }
      ]
    },
    {
      "cell_type": "markdown",
      "metadata": {
        "id": "8DPo_9f4eCGd"
      },
      "source": [
        "33. Write a Python script to print a dictionary where the keys are numbers\r\n",
        "between 1 and 1 5 (both included) and the values are square of keys"
      ]
    },
    {
      "cell_type": "code",
      "metadata": {
        "id": "LLB6SLwnl3qc",
        "colab": {
          "base_uri": "https://localhost:8080/"
        },
        "outputId": "5a4315c9-73a1-4740-d9ca-21615faef530"
      },
      "source": [
        "def dict_square(first,last):\r\n",
        "  result = {}\r\n",
        "  for i in  range(first,last+1):\r\n",
        "    result[i] = i**2\r\n",
        "  return result\r\n",
        "\r\n",
        "print(dict_square(1,15))"
      ],
      "execution_count": null,
      "outputs": [
        {
          "output_type": "stream",
          "text": [
            "{1: 1, 2: 4, 3: 9, 4: 16, 5: 25, 6: 36, 7: 49, 8: 64, 9: 81, 10: 100, 11: 121, 12: 144, 13: 169, 14: 196, 15: 225}\n"
          ],
          "name": "stdout"
        }
      ]
    },
    {
      "cell_type": "markdown",
      "metadata": {
        "id": "4u9wET1ce7Fc"
      },
      "source": [
        "34. Write a Python script to merge two Python dictionaries."
      ]
    },
    {
      "cell_type": "code",
      "metadata": {
        "colab": {
          "base_uri": "https://localhost:8080/"
        },
        "id": "04baQRGTeYOn",
        "outputId": "8d9c630a-8980-44f2-a344-dd457ea5b3e8"
      },
      "source": [
        "def merge(dic1,dic2):\r\n",
        "  dic1.update(dic2)\r\n",
        "  return dic1\r\n",
        "\r\n",
        "print(merge({1 :10, 2:20},{1 :15, 3:24,4:26}))"
      ],
      "execution_count": null,
      "outputs": [
        {
          "output_type": "stream",
          "text": [
            "{1: 15, 2: 20, 3: 24, 4: 26}\n"
          ],
          "name": "stdout"
        }
      ]
    },
    {
      "cell_type": "markdown",
      "metadata": {
        "id": "RHDxnio4fx_z"
      },
      "source": [
        "35. Write a Python program to iterate over dictionaries using for loops"
      ]
    },
    {
      "cell_type": "code",
      "metadata": {
        "colab": {
          "base_uri": "https://localhost:8080/"
        },
        "id": "LRO17p2VfoMS",
        "outputId": "07c47df5-aa91-4f1c-876b-d5d7e795949b"
      },
      "source": [
        "def iterate(dic):\r\n",
        "  for key,value in dic.items():\r\n",
        "    print(f\"Key: {key} snd Value: {value}\")\r\n",
        "\r\n",
        "iterate({1: 15, 2: 20, 3: 24, 4: 26})"
      ],
      "execution_count": null,
      "outputs": [
        {
          "output_type": "stream",
          "text": [
            "Key: 1 snd Value: 15\n",
            "Key: 2 snd Value: 20\n",
            "Key: 3 snd Value: 24\n",
            "Key: 4 snd Value: 26\n"
          ],
          "name": "stdout"
        }
      ]
    },
    {
      "cell_type": "markdown",
      "metadata": {
        "id": "lfMxmAFqgQXc"
      },
      "source": [
        "36. Write a Python program to sum all the items in a dictionary"
      ]
    },
    {
      "cell_type": "code",
      "metadata": {
        "colab": {
          "base_uri": "https://localhost:8080/"
        },
        "id": "DFjJQdXPgD80",
        "outputId": "20ce5f51-2d67-4e06-f238-54d934ca940e"
      },
      "source": [
        "def sum_dic(dic):\r\n",
        "  sum = 0\r\n",
        "  for k,v in dic.items():\r\n",
        "    if type(v) == int or type(v) == float:\r\n",
        "      sum += v\r\n",
        "    else:\r\n",
        "      continue\r\n",
        "  return sum\r\n",
        "\r\n",
        "print(sum_dic({1: 15.0, 2: 20, 3: 24, 4: 26}))"
      ],
      "execution_count": null,
      "outputs": [
        {
          "output_type": "stream",
          "text": [
            "85.0\n"
          ],
          "name": "stdout"
        }
      ]
    },
    {
      "cell_type": "markdown",
      "metadata": {
        "id": "pd1bTN9IhTqK"
      },
      "source": [
        "37. Write a Python program to multiply all the items in a dictionary"
      ]
    },
    {
      "cell_type": "code",
      "metadata": {
        "colab": {
          "base_uri": "https://localhost:8080/"
        },
        "id": "D77ffxeDg5z2",
        "outputId": "4f86191d-cab6-4856-acbe-03963b197ac1"
      },
      "source": [
        "def mul_dic(dic):\r\n",
        "  mul = 1\r\n",
        "  for k,v in dic.items():\r\n",
        "    if type(v) == int or type(v) == float:\r\n",
        "      mul *= v\r\n",
        "    else:\r\n",
        "      continue\r\n",
        "  return mul\r\n",
        "\r\n",
        "print(mul_dic({1: 15.0, 2: 20, 3: 24, 4: 26}))"
      ],
      "execution_count": null,
      "outputs": [
        {
          "output_type": "stream",
          "text": [
            "187200.0\n"
          ],
          "name": "stdout"
        }
      ]
    },
    {
      "cell_type": "markdown",
      "metadata": {
        "id": "X5sQfiy7hohV"
      },
      "source": [
        "38. Write a Python program to remove a key from a dictionary"
      ]
    },
    {
      "cell_type": "code",
      "metadata": {
        "colab": {
          "base_uri": "https://localhost:8080/"
        },
        "id": "Dgu_l3dQhjI7",
        "outputId": "91f4b9db-b7c5-4aa9-f7cf-013b20004dab"
      },
      "source": [
        "def remove_key(dic,key):\r\n",
        "  if key in dic:\r\n",
        "    del dic[key]\r\n",
        "    return dic\r\n",
        "  return \"Key is not present\"\r\n",
        "\r\n",
        "print(remove_key({1: 15.0, 2: 20, 3: 24, 4: 26},3))"
      ],
      "execution_count": null,
      "outputs": [
        {
          "output_type": "stream",
          "text": [
            "{1: 15.0, 2: 20, 4: 26}\n"
          ],
          "name": "stdout"
        }
      ]
    },
    {
      "cell_type": "markdown",
      "metadata": {
        "id": "JKL3p_oh0tcn"
      },
      "source": [
        "39. Write a Python program to unpack a tuple in several variables."
      ]
    },
    {
      "cell_type": "code",
      "metadata": {
        "colab": {
          "base_uri": "https://localhost:8080/"
        },
        "id": "1eX0dFxo025H",
        "outputId": "51f7f2c1-5119-4299-c95a-d03284c4544f"
      },
      "source": [
        "def tup_unpack(props):\r\n",
        "  var1,var2 = props\r\n",
        "  print(\"First Var: \",var1)\r\n",
        "  print(\"Second Var: \",var2)\r\n",
        "\r\n",
        "tup_unpack((\"hello\",'world'))"
      ],
      "execution_count": 2,
      "outputs": [
        {
          "output_type": "stream",
          "text": [
            "First Var:  hello\n",
            "Second Var:  world\n"
          ],
          "name": "stdout"
        }
      ]
    },
    {
      "cell_type": "markdown",
      "metadata": {
        "id": "Jlkgx8dT1uZR"
      },
      "source": [
        "40. Write a Python program to add an item in a tuple."
      ]
    },
    {
      "cell_type": "code",
      "metadata": {
        "colab": {
          "base_uri": "https://localhost:8080/"
        },
        "id": "nNDss_zd1vNB",
        "outputId": "bc9f9497-5431-49e9-95fd-e0ebe6da5757"
      },
      "source": [
        "def add_tup(tup, item):\r\n",
        "  tup += (item,)\r\n",
        "  return tup\r\n",
        "\r\n",
        "print(add_tup((1,2,3,4),5))"
      ],
      "execution_count": 7,
      "outputs": [
        {
          "output_type": "stream",
          "text": [
            "(1, 2, 3, 4, 5)\n"
          ],
          "name": "stdout"
        }
      ]
    },
    {
      "cell_type": "markdown",
      "metadata": {
        "id": "QynYKzsR2iCn"
      },
      "source": [
        "41 . Write a Python program to convert a tuple to a string."
      ]
    },
    {
      "cell_type": "code",
      "metadata": {
        "colab": {
          "base_uri": "https://localhost:8080/"
        },
        "id": "fAqR2sXk2i3z",
        "outputId": "1df29b4b-5863-4da1-e243-fd261d041b8d"
      },
      "source": [
        "def tup_string(tup):\r\n",
        "  result = ''.join(tup)\r\n",
        "  print(result)\r\n",
        "\r\n",
        "tup = ('a','b','c','d')\r\n",
        "tup_string(tup)"
      ],
      "execution_count": 2,
      "outputs": [
        {
          "output_type": "stream",
          "text": [
            "abcd\n"
          ],
          "name": "stdout"
        }
      ]
    },
    {
      "cell_type": "markdown",
      "metadata": {
        "id": "3Dxlpha831YE"
      },
      "source": [
        "42. Write a Python program to convert a list to a tuple"
      ]
    },
    {
      "cell_type": "code",
      "metadata": {
        "colab": {
          "base_uri": "https://localhost:8080/"
        },
        "id": "UfRFjLPq317R",
        "outputId": "b8b926a9-6dc9-4e8b-f2b6-f82f6b2e07d4"
      },
      "source": [
        "def li_tup(l):\r\n",
        "  return tuple(l)\r\n",
        "\r\n",
        "l = [1,2,3,4]\r\n",
        "print(li_tup(l))"
      ],
      "execution_count": 1,
      "outputs": [
        {
          "output_type": "stream",
          "text": [
            "(1, 2, 3, 4)\n"
          ],
          "name": "stdout"
        }
      ]
    },
    {
      "cell_type": "markdown",
      "metadata": {
        "id": "dQlTnKUXCy0-"
      },
      "source": [
        "43. Write a Python program to remove an item from a tuple."
      ]
    },
    {
      "cell_type": "code",
      "metadata": {
        "colab": {
          "base_uri": "https://localhost:8080/"
        },
        "id": "KNcGko8bC1OT",
        "outputId": "3550447a-2475-4b38-b88c-69b0cc8f6430"
      },
      "source": [
        "def tup_remove(tup,item):\r\n",
        "  tup = list(tup)\r\n",
        "  tup.remove(item)\r\n",
        "  tup = tuple(tup)\r\n",
        "  return tup\r\n",
        "\r\n",
        "tup =  ('a','b','c','d','e')\r\n",
        "print(tup_remove(tup,'d'))\r\n"
      ],
      "execution_count": 19,
      "outputs": [
        {
          "output_type": "stream",
          "text": [
            "('a', 'b', 'c', 'e')\n"
          ],
          "name": "stdout"
        }
      ]
    },
    {
      "cell_type": "markdown",
      "metadata": {
        "id": "eksxRL8-E3Qa"
      },
      "source": [
        "44. Write a Python program to slice a tuple."
      ]
    },
    {
      "cell_type": "code",
      "metadata": {
        "colab": {
          "base_uri": "https://localhost:8080/"
        },
        "id": "p8fwWEjOFCo7",
        "outputId": "ef717210-34fc-44b4-f2e8-966f909a1543"
      },
      "source": [
        "def slice_tup(tup,start,end):\r\n",
        "  return tup[start:end]\r\n",
        "\r\n",
        "tup = [1,2,3,4,5]\r\n",
        "print(slice_tup(tup,2,4))"
      ],
      "execution_count": 12,
      "outputs": [
        {
          "output_type": "stream",
          "text": [
            "[3, 4]\n"
          ],
          "name": "stdout"
        }
      ]
    },
    {
      "cell_type": "markdown",
      "metadata": {
        "id": "IsnUSm4JF9us"
      },
      "source": [
        "45. Write a Python program to find the index of an item of a tuple"
      ]
    },
    {
      "cell_type": "code",
      "metadata": {
        "colab": {
          "base_uri": "https://localhost:8080/"
        },
        "id": "MPeXShJCFGsD",
        "outputId": "204b1593-1b6b-47b6-a59f-54742b2d4bcb"
      },
      "source": [
        "def tup_index(tup,item):\r\n",
        "  return tup.index(item)\r\n",
        "\r\n",
        "tup =  ('a','b','c','d','e')\r\n",
        "print(tup_index(tup,'c'))"
      ],
      "execution_count": 16,
      "outputs": [
        {
          "output_type": "stream",
          "text": [
            "2\n"
          ],
          "name": "stdout"
        }
      ]
    },
    {
      "cell_type": "markdown",
      "metadata": {
        "id": "wzNcPohiGMeG"
      },
      "source": [
        "46. Write a Python program to find the length of a tuple"
      ]
    },
    {
      "cell_type": "code",
      "metadata": {
        "colab": {
          "base_uri": "https://localhost:8080/"
        },
        "id": "AMi6nNz7GN2K",
        "outputId": "daaa6b1e-c999-43a1-e77c-92e98a3dcbee"
      },
      "source": [
        "def tup_len(tup):\r\n",
        "  return len(tup)\r\n",
        "\r\n",
        "tup = [1,2,3,4,5]\r\n",
        "print(tup_len(tup))"
      ],
      "execution_count": 13,
      "outputs": [
        {
          "output_type": "stream",
          "text": [
            "5\n"
          ],
          "name": "stdout"
        }
      ]
    },
    {
      "cell_type": "markdown",
      "metadata": {
        "id": "tfs3g8cIpQMM"
      },
      "source": [
        "#Functions"
      ]
    },
    {
      "cell_type": "markdown",
      "metadata": {
        "id": "aN3QWr4wpnz8"
      },
      "source": [
        "1 . Write a Python function to find the Max of three numbers"
      ]
    },
    {
      "cell_type": "code",
      "metadata": {
        "colab": {
          "base_uri": "https://localhost:8080/"
        },
        "id": "_3W3U6PsiGag",
        "outputId": "73c32da7-ddbf-40f0-9aac-cecc38ee28a4"
      },
      "source": [
        "def max_three(num1,num2,num3):\r\n",
        "  if num1 > num2 and num1 > num3:\r\n",
        "    return num1\r\n",
        "  elif(num2 > num1 and num2 > num3):\r\n",
        "    return num2\r\n",
        "  else:\r\n",
        "    return num3\r\n",
        "\r\n",
        "result = max_three(18,45,32)\r\n",
        "print(f\"The maximum number is : {result}\")"
      ],
      "execution_count": null,
      "outputs": [
        {
          "output_type": "stream",
          "text": [
            "The maximum number is : 45\n"
          ],
          "name": "stdout"
        }
      ]
    },
    {
      "cell_type": "markdown",
      "metadata": {
        "id": "KTkeA-thqrjm"
      },
      "source": [
        "2. Write a Python function to sum all the numbers in a list"
      ]
    },
    {
      "cell_type": "code",
      "metadata": {
        "colab": {
          "base_uri": "https://localhost:8080/"
        },
        "id": "T6R17IQAqj72",
        "outputId": "f3ac4d3a-da9d-4041-f272-392387559b93"
      },
      "source": [
        "def sum_list(props):\r\n",
        "  sum = 0\r\n",
        "  for i in props:\r\n",
        "    sum += i\r\n",
        "  return sum\r\n",
        "print(sum_list([8, 2, 3, 0, 7]))"
      ],
      "execution_count": null,
      "outputs": [
        {
          "output_type": "stream",
          "text": [
            "20\n"
          ],
          "name": "stdout"
        }
      ]
    },
    {
      "cell_type": "markdown",
      "metadata": {
        "id": "lGoDElnCq-M6"
      },
      "source": [
        "3. Write a Python function to multiply all the numbers in a list"
      ]
    },
    {
      "cell_type": "code",
      "metadata": {
        "colab": {
          "base_uri": "https://localhost:8080/"
        },
        "id": "7HPICwklq6o4",
        "outputId": "460bf31c-d9b2-4307-d699-10455855c197"
      },
      "source": [
        "def mul_list(props):\r\n",
        "  mul = 1\r\n",
        "  for i in props:\r\n",
        "    mul *= i\r\n",
        "  return mul\r\n",
        "print(mul_list([8, 2, 3, -1 , 7]))"
      ],
      "execution_count": null,
      "outputs": [
        {
          "output_type": "stream",
          "text": [
            "-336\n"
          ],
          "name": "stdout"
        }
      ]
    },
    {
      "cell_type": "markdown",
      "metadata": {
        "id": "Hfhj2J0PrRIV"
      },
      "source": [
        "4. Write a Python program to reverse a string."
      ]
    },
    {
      "cell_type": "code",
      "metadata": {
        "colab": {
          "base_uri": "https://localhost:8080/"
        },
        "id": "YcnsWg0LrG8a",
        "outputId": "188ec4ba-70ff-45c2-844e-05948d23ef1a"
      },
      "source": [
        "def rev_str(string):\r\n",
        "  rev_str = ''\r\n",
        "  index = len(string)\r\n",
        "  while index:\r\n",
        "    rev_str += string[index -1 ]\r\n",
        "    index -= 1\r\n",
        "  return rev_str\r\n",
        "\r\n",
        "print(rev_str(\"1234abcd\"))"
      ],
      "execution_count": null,
      "outputs": [
        {
          "output_type": "stream",
          "text": [
            "dcba4321\n"
          ],
          "name": "stdout"
        }
      ]
    },
    {
      "cell_type": "markdown",
      "metadata": {
        "id": "uIpWnI9ptBx0"
      },
      "source": [
        "5. Write a Python function to calculate the factorial of a number (a non-negative\r\n",
        "integer). The function accepts the number as an argument."
      ]
    },
    {
      "cell_type": "code",
      "metadata": {
        "colab": {
          "base_uri": "https://localhost:8080/"
        },
        "id": "xIIUn2ndriq9",
        "outputId": "27df79f6-0ea1-4f03-be83-6986f64c30f5"
      },
      "source": [
        "def factorial(num):\r\n",
        "  num = abs(num)\r\n",
        "  if num == 0 or num == 1:\r\n",
        "    return num\r\n",
        "  return num * factorial(num-1)\r\n",
        "\r\n",
        "result = factorial(5)\r\n",
        "print(f\"The factorial is : {result}\")"
      ],
      "execution_count": null,
      "outputs": [
        {
          "output_type": "stream",
          "text": [
            "The factorial is : 120\n"
          ],
          "name": "stdout"
        }
      ]
    },
    {
      "cell_type": "markdown",
      "metadata": {
        "id": "bK5LlV32SVhU"
      },
      "source": [
        "6. Write a Python function to check whether a number is in a given range."
      ]
    },
    {
      "cell_type": "code",
      "metadata": {
        "colab": {
          "base_uri": "https://localhost:8080/"
        },
        "id": "XdADEr25tqqk",
        "outputId": "c2c26b58-13a2-436f-f48f-7831f752869e"
      },
      "source": [
        "def check(start,end,num):\r\n",
        "  if num >= start and num <= end:\r\n",
        "    return f\"{num} is in range of {start} to {end} \"\r\n",
        "  return f\"{num} is not in range of {start} to {end}\"\r\n",
        "\r\n",
        "print(check(1,100,110))"
      ],
      "execution_count": null,
      "outputs": [
        {
          "output_type": "stream",
          "text": [
            "110 is not in range of 1 to 100\n"
          ],
          "name": "stdout"
        }
      ]
    },
    {
      "cell_type": "markdown",
      "metadata": {
        "id": "TQLvIg_YTa7z"
      },
      "source": [
        "7. Write a Python function that accepts a string and calculate the number of\r\n",
        "upper case letters and lower case letters"
      ]
    },
    {
      "cell_type": "code",
      "metadata": {
        "colab": {
          "base_uri": "https://localhost:8080/"
        },
        "id": "jSe9lpsfTMtV",
        "outputId": "e6502c6a-81f7-420d-faea-4874722c716b"
      },
      "source": [
        "def up_lo(string):\r\n",
        "  up_count = 0\r\n",
        "  low_count = 0\r\n",
        "  for i in string:\r\n",
        "    if i.isupper():\r\n",
        "      up_count += 1\r\n",
        "    elif i.islower():\r\n",
        "      low_count += 1\r\n",
        "  return (up_count,low_count)\r\n",
        "\r\n",
        "result = up_lo(\"The quick Brow Fox\")\r\n",
        "print(f\"Uppercase count: {result[0]} and LowerCase Count: {result[1]} \")"
      ],
      "execution_count": null,
      "outputs": [
        {
          "output_type": "stream",
          "text": [
            "Uppercase count: 3 and LowerCase Count: 12 \n"
          ],
          "name": "stdout"
        }
      ]
    },
    {
      "cell_type": "markdown",
      "metadata": {
        "id": "m8yJYB6bVBRN"
      },
      "source": [
        "8. Write a Python function that takes a list and returns a new list with unique\r\n",
        "elements of the first list"
      ]
    },
    {
      "cell_type": "code",
      "metadata": {
        "colab": {
          "base_uri": "https://localhost:8080/"
        },
        "id": "e-ewGaljUvKr",
        "outputId": "d864161d-4ee0-439b-b1e7-a63689072c6f"
      },
      "source": [
        "def unique(elements):\r\n",
        "  unique_ele = list(set(elements))\r\n",
        "  return unique_ele\r\n",
        "\r\n",
        "print(unique([1 ,2,3,3,3,3,4,5]))"
      ],
      "execution_count": null,
      "outputs": [
        {
          "output_type": "stream",
          "text": [
            "[1, 2, 3, 4, 5]\n"
          ],
          "name": "stdout"
        }
      ]
    },
    {
      "cell_type": "markdown",
      "metadata": {
        "id": "oqIAUtxxfknQ"
      },
      "source": [
        "9. Write a Python function that takes a number as a parameter and check the\r\n",
        "number is prime or not"
      ]
    },
    {
      "cell_type": "code",
      "metadata": {
        "colab": {
          "base_uri": "https://localhost:8080/"
        },
        "id": "Fqb4p-cVVeMd",
        "outputId": "029ffd34-2b36-4037-9a9f-9a6ba2b72bcd"
      },
      "source": [
        "import math\r\n",
        "def prime(num):\r\n",
        "  num = abs(num)\r\n",
        "  if num == 0 or num == 1:\r\n",
        "    return \"Not Prime\"\r\n",
        "  if num == 2:\r\n",
        "    return \"Prime\"\r\n",
        "  for i in range(3,math.floor(math.sqrt(num))+1,2):\r\n",
        "    if num % i == 0:\r\n",
        "      return \"Not Prime\"\r\n",
        "  return \"Prime\"\r\n",
        "\r\n",
        "print(prime(21))"
      ],
      "execution_count": null,
      "outputs": [
        {
          "output_type": "stream",
          "text": [
            "Not Prime\n"
          ],
          "name": "stdout"
        }
      ]
    },
    {
      "cell_type": "markdown",
      "metadata": {
        "id": "EUhY0KARnJ33"
      },
      "source": [
        "1 0. Write a Python program to print the even numbers from a given list"
      ]
    },
    {
      "cell_type": "code",
      "metadata": {
        "colab": {
          "base_uri": "https://localhost:8080/"
        },
        "id": "H8PJuDvkf8Lr",
        "outputId": "b06961db-e7e1-443a-81f2-163b452d24eb"
      },
      "source": [
        "def even(elements):\r\n",
        "  even_num = []\r\n",
        "  for num in elements:\r\n",
        "    if num % 2 == 0:\r\n",
        "      # print(f\"{num} is a even number\")\r\n",
        "      even_num.append(num)\r\n",
        "  return even_num\r\n",
        "\r\n",
        "print(even( [1 , 2, 3, 4, 5, 6, 7, 8, 9]))"
      ],
      "execution_count": null,
      "outputs": [
        {
          "output_type": "stream",
          "text": [
            "[2, 4, 6, 8]\n"
          ],
          "name": "stdout"
        }
      ]
    },
    {
      "cell_type": "markdown",
      "metadata": {
        "id": "hJ92sEPbn1rx"
      },
      "source": [
        "1 1 . Write a Python program to create a lambda function that adds 1 5 to a given\r\n",
        "number passed in as an argument, also create a lambda function that multiplies\r\n",
        "argument x with argument y and print the result"
      ]
    },
    {
      "cell_type": "code",
      "metadata": {
        "colab": {
          "base_uri": "https://localhost:8080/"
        },
        "id": "6DpwALWznjaJ",
        "outputId": "f708b5a6-00fe-4dd9-c6e8-3c02cbaed0fc"
      },
      "source": [
        "a = lambda x: x + 15\r\n",
        "b = lambda x,y: x*y\r\n",
        "\r\n",
        "print(\"After adding with 15: \",a(10))\r\n",
        "print(\"After multiplying :\",b(2,5))"
      ],
      "execution_count": null,
      "outputs": [
        {
          "output_type": "stream",
          "text": [
            "After adding with 15:  25\n",
            "After multiplying : 10\n"
          ],
          "name": "stdout"
        }
      ]
    },
    {
      "cell_type": "markdown",
      "metadata": {
        "id": "ehsyB21lpJvC"
      },
      "source": [
        "1 2. Write a Python program to create a function that takes one argument, and\r\n",
        "that argument will be multiplied with an unknown given number"
      ]
    },
    {
      "cell_type": "code",
      "metadata": {
        "colab": {
          "base_uri": "https://localhost:8080/"
        },
        "id": "cZJ7Oo1MoIak",
        "outputId": "1f024ce8-6c3e-4518-fbcb-f3f4192ff8d9"
      },
      "source": [
        "import random\r\n",
        "def multiply(num1):\r\n",
        "  return random.randint(1,20) * num1\r\n",
        "\r\n",
        "print(multiply(5))"
      ],
      "execution_count": null,
      "outputs": [
        {
          "output_type": "stream",
          "text": [
            "25\n"
          ],
          "name": "stdout"
        }
      ]
    },
    {
      "cell_type": "markdown",
      "metadata": {
        "id": "W_f1dX--qHfj"
      },
      "source": [
        "1 3. Write a Python program to sort a list of tuples using Lambda"
      ]
    },
    {
      "cell_type": "code",
      "metadata": {
        "colab": {
          "base_uri": "https://localhost:8080/"
        },
        "id": "DofZtK0Np-3b",
        "outputId": "30e82a7c-4be3-402b-d4a5-5f48fe25281b"
      },
      "source": [
        "sort = lambda tup: sorted(tup,key = lambda x: x[1])\r\n",
        "\r\n",
        "print(sort([(2, 5), (1 , 2), (4, 4), (2, 3), (2, 1 )]))"
      ],
      "execution_count": null,
      "outputs": [
        {
          "output_type": "stream",
          "text": [
            "[(2, 1), (1, 2), (2, 3), (4, 4), (2, 5)]\n"
          ],
          "name": "stdout"
        }
      ]
    },
    {
      "cell_type": "markdown",
      "metadata": {
        "id": "5kzBDwDcrA66"
      },
      "source": [
        "1 4. Write a Python program to sort a list of dictionaries using Lambda"
      ]
    },
    {
      "cell_type": "code",
      "metadata": {
        "colab": {
          "base_uri": "https://localhost:8080/"
        },
        "id": "Ix-8lUaMq2cl",
        "outputId": "bce60956-20fe-4c8c-92db-9ba5dd9f3000"
      },
      "source": [
        "sort = lambda dic: sorted(dic,key= lambda x: x['age'])\r\n",
        "\r\n",
        "print(sort([{'name': 'ram', 'age': 40}, {'name': 'shyam', 'age': 20}, {'name': 'hary', 'age': 30}]))"
      ],
      "execution_count": null,
      "outputs": [
        {
          "output_type": "stream",
          "text": [
            "[{'name': 'shyam', 'age': 20}, {'name': 'hary', 'age': 30}, {'name': 'ram', 'age': 40}]\n"
          ],
          "name": "stdout"
        }
      ]
    },
    {
      "cell_type": "markdown",
      "metadata": {
        "id": "lHH_6g3Iu3Ow"
      },
      "source": [
        "1 5. Write a Python program to filter a list of integers using Lambda."
      ]
    },
    {
      "cell_type": "code",
      "metadata": {
        "colab": {
          "base_uri": "https://localhost:8080/"
        },
        "id": "HJK-6zNwtFFH",
        "outputId": "f0236402-2927-4e2d-8a27-d0cc76a7d040"
      },
      "source": [
        "num_list = [1,2.0,3,4,5.0,6.66,7,8.8,9.99,10]\r\n",
        "\r\n",
        "result  = filter(lambda x: type(x) == int,num_list)\r\n",
        "print(list(result))"
      ],
      "execution_count": null,
      "outputs": [
        {
          "output_type": "stream",
          "text": [
            "[1, 3, 4, 7, 10]\n"
          ],
          "name": "stdout"
        }
      ]
    },
    {
      "cell_type": "markdown",
      "metadata": {
        "id": "FS1NrUGjvrFR"
      },
      "source": [
        "1 6. Write a Python program to square and cube every number in a given list of\r\n",
        "integers using Lambda."
      ]
    },
    {
      "cell_type": "code",
      "metadata": {
        "colab": {
          "base_uri": "https://localhost:8080/"
        },
        "id": "cg8aGfXevP1b",
        "outputId": "0ffbff1b-5d90-421c-cdd8-6671007449f9"
      },
      "source": [
        "def square(seq):\r\n",
        "  return (map(lambda x: x**2,seq))\r\n",
        "\r\n",
        "def cube(seq):\r\n",
        "  return map(lambda x: x**3,seq)\r\n",
        "\r\n",
        "seq = [0, 1, 2, 3, 5, 8, 13] \r\n",
        "print(\"Square\",list(square(seq)))\r\n",
        "print(\"Cube\",list(cube(seq)))"
      ],
      "execution_count": null,
      "outputs": [
        {
          "output_type": "stream",
          "text": [
            "Square [0, 1, 4, 9, 25, 64, 169]\n",
            "Cube [0, 1, 8, 27, 125, 512, 2197]\n"
          ],
          "name": "stdout"
        }
      ]
    },
    {
      "cell_type": "markdown",
      "metadata": {
        "id": "ZshSDcke_IAL"
      },
      "source": [
        "1 7. Write a Python program to find if a given string starts with a given character\r\n",
        "using Lambda"
      ]
    },
    {
      "cell_type": "code",
      "metadata": {
        "colab": {
          "base_uri": "https://localhost:8080/"
        },
        "id": "RIXp0RTnwDe7",
        "outputId": "cb0b8ed9-6b78-4767-8b4c-af91ceee5992"
      },
      "source": [
        "check = lambda string,first_char: True if string[0] == first_char else False\r\n",
        "\r\n",
        "print(check('Hello world','H'))"
      ],
      "execution_count": null,
      "outputs": [
        {
          "output_type": "stream",
          "text": [
            "True\n"
          ],
          "name": "stdout"
        }
      ]
    },
    {
      "cell_type": "markdown",
      "metadata": {
        "id": "PEGRlaUwAl17"
      },
      "source": [
        "1 8. Write a Python program to check whether a given string is number or not\r\n",
        "using Lambda."
      ]
    },
    {
      "cell_type": "code",
      "metadata": {
        "colab": {
          "base_uri": "https://localhost:8080/"
        },
        "id": "ulGQuwJeAccT",
        "outputId": "0641dbce-58d9-4f0b-bd74-ac1883b39242"
      },
      "source": [
        "\r\n",
        "check = lambda props: props.isnumeric()\r\n",
        "\r\n",
        "print(check('123'))"
      ],
      "execution_count": null,
      "outputs": [
        {
          "output_type": "stream",
          "text": [
            "True\n"
          ],
          "name": "stdout"
        }
      ]
    },
    {
      "cell_type": "markdown",
      "metadata": {
        "id": "7jSZ8wVpHcwZ"
      },
      "source": [
        "1 9. Write a Python program to create Fibonacci series upto n using Lambda"
      ]
    },
    {
      "cell_type": "code",
      "metadata": {
        "colab": {
          "base_uri": "https://localhost:8080/"
        },
        "id": "UrzEab0gHKwF",
        "outputId": "b421c95d-9c2f-44b8-d1b5-1b6dc583cbff"
      },
      "source": [
        "def fib(n):\r\n",
        "  fib_list = [0,1]\r\n",
        "  any(map(lambda _: fib_list.append(sum(fib_list[-2:])), range(2, n)))\r\n",
        "  return fib_list[:n] \r\n",
        "\r\n",
        "print(fib(5))"
      ],
      "execution_count": null,
      "outputs": [
        {
          "output_type": "stream",
          "text": [
            "[0, 1, 1, 2, 3]\n"
          ],
          "name": "stdout"
        }
      ]
    },
    {
      "cell_type": "markdown",
      "metadata": {
        "id": "266juXyTUi_u"
      },
      "source": [
        "20. Write a Python program to find intersection of two given arrays using\r\n",
        "Lambda."
      ]
    },
    {
      "cell_type": "code",
      "metadata": {
        "colab": {
          "base_uri": "https://localhost:8080/"
        },
        "id": "a57R6UZwKPnx",
        "outputId": "a048a9de-ff9e-473f-a2f4-41c62edc9f45"
      },
      "source": [
        "def inter(arr1,arr2):\r\n",
        "  result = lambda ar1,ar2: set(ar1).intersection(set(ar2))\r\n",
        "  return result(arr1,arr2)\r\n",
        "\r\n",
        "inter([1,2,3,4],[3,4,5])"
      ],
      "execution_count": null,
      "outputs": [
        {
          "output_type": "execute_result",
          "data": {
            "text/plain": [
              "{3, 4}"
            ]
          },
          "metadata": {
            "tags": []
          },
          "execution_count": 150
        }
      ]
    },
    {
      "cell_type": "code",
      "metadata": {
        "id": "Aql06Kr_VcK4"
      },
      "source": [
        ""
      ],
      "execution_count": null,
      "outputs": []
    }
  ]
}